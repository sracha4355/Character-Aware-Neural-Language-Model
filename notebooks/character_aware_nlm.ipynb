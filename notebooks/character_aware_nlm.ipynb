{
  "cells": [
    {
      "cell_type": "markdown",
      "metadata": {
        "id": "view-in-github",
        "colab_type": "text"
      },
      "source": [
        "<a href=\"https://colab.research.google.com/github/sracha4355/Character-Aware-Neural-Language-Model/blob/main/notebooks/character_aware_nlm.ipynb\" target=\"_parent\"><img src=\"https://colab.research.google.com/assets/colab-badge.svg\" alt=\"Open In Colab\"/></a>"
      ]
    },
    {
      "cell_type": "code",
      "execution_count": 10,
      "metadata": {
        "colab": {
          "base_uri": "https://localhost:8080/"
        },
        "collapsed": true,
        "id": "lFkaGAC_xz7W",
        "outputId": "6d6fbeef-cef2-4165-8fa8-fee03220f8f2"
      },
      "outputs": [
        {
          "output_type": "stream",
          "name": "stdout",
          "text": [
            "Requirement already satisfied: transformers in /usr/local/lib/python3.10/dist-packages (4.44.2)\n",
            "Requirement already satisfied: filelock in /usr/local/lib/python3.10/dist-packages (from transformers) (3.16.1)\n",
            "Requirement already satisfied: huggingface-hub<1.0,>=0.23.2 in /usr/local/lib/python3.10/dist-packages (from transformers) (0.24.7)\n",
            "Requirement already satisfied: numpy>=1.17 in /usr/local/lib/python3.10/dist-packages (from transformers) (1.26.4)\n",
            "Requirement already satisfied: packaging>=20.0 in /usr/local/lib/python3.10/dist-packages (from transformers) (24.1)\n",
            "Requirement already satisfied: pyyaml>=5.1 in /usr/local/lib/python3.10/dist-packages (from transformers) (6.0.2)\n",
            "Requirement already satisfied: regex!=2019.12.17 in /usr/local/lib/python3.10/dist-packages (from transformers) (2024.9.11)\n",
            "Requirement already satisfied: requests in /usr/local/lib/python3.10/dist-packages (from transformers) (2.32.3)\n",
            "Requirement already satisfied: safetensors>=0.4.1 in /usr/local/lib/python3.10/dist-packages (from transformers) (0.4.5)\n",
            "Requirement already satisfied: tokenizers<0.20,>=0.19 in /usr/local/lib/python3.10/dist-packages (from transformers) (0.19.1)\n",
            "Requirement already satisfied: tqdm>=4.27 in /usr/local/lib/python3.10/dist-packages (from transformers) (4.66.5)\n",
            "Requirement already satisfied: fsspec>=2023.5.0 in /usr/local/lib/python3.10/dist-packages (from huggingface-hub<1.0,>=0.23.2->transformers) (2024.6.1)\n",
            "Requirement already satisfied: typing-extensions>=3.7.4.3 in /usr/local/lib/python3.10/dist-packages (from huggingface-hub<1.0,>=0.23.2->transformers) (4.12.2)\n",
            "Requirement already satisfied: charset-normalizer<4,>=2 in /usr/local/lib/python3.10/dist-packages (from requests->transformers) (3.4.0)\n",
            "Requirement already satisfied: idna<4,>=2.5 in /usr/local/lib/python3.10/dist-packages (from requests->transformers) (3.10)\n",
            "Requirement already satisfied: urllib3<3,>=1.21.1 in /usr/local/lib/python3.10/dist-packages (from requests->transformers) (2.2.3)\n",
            "Requirement already satisfied: certifi>=2017.4.17 in /usr/local/lib/python3.10/dist-packages (from requests->transformers) (2024.8.30)\n"
          ]
        }
      ],
      "source": [
        "!pip install transformers"
      ]
    },
    {
      "cell_type": "code",
      "execution_count": 11,
      "metadata": {
        "id": "X5QgHsQp2GUc"
      },
      "outputs": [],
      "source": [
        "from transformers import BertTokenizer\n",
        "import torch\n",
        "from torch import nn\n",
        "import pprint\n"
      ]
    },
    {
      "cell_type": "code",
      "execution_count": 86,
      "metadata": {
        "id": "LuR7kqnc7iVE"
      },
      "outputs": [],
      "source": [
        "characters, EMBEDDING_DIM = set(), 15\n",
        "START_OF_WORD, END_OF_WORD = chr(2), chr(3)\n",
        "max_word_length = 0"
      ]
    },
    {
      "cell_type": "code",
      "execution_count": 87,
      "metadata": {
        "id": "oO2WGE5A7NBq"
      },
      "outputs": [],
      "source": [
        "with open('wsj_train.txt', 'r') as file:\n",
        "  text = file.read()\n",
        "  for char in text:\n",
        "    characters.add(char)\n",
        "  words = text.split()\n",
        "  for word in words:\n",
        "    max_word_length = max(max_word_length, len(word))\n",
        "  del words\n"
      ]
    },
    {
      "cell_type": "code",
      "source": [
        "print(len(characters), max_word_length)"
      ],
      "metadata": {
        "colab": {
          "base_uri": "https://localhost:8080/"
        },
        "id": "ynRKD8YpJMzg",
        "outputId": "f659f33f-7a4b-46c8-89f0-0193de2ea9ca"
      },
      "execution_count": 88,
      "outputs": [
        {
          "output_type": "stream",
          "name": "stdout",
          "text": [
            "86 54\n"
          ]
        }
      ]
    },
    {
      "cell_type": "code",
      "execution_count": 89,
      "metadata": {
        "id": "p7WXp8mM41Ih"
      },
      "outputs": [],
      "source": [
        "char_to_idx = {ch: i for i, ch in enumerate(characters)}\n",
        "idx_to_char = {i: ch for ch, i in char_to_idx.items()}\n",
        "\n",
        "### add the start-of-word and end-of-word symbols\n",
        "char_to_idx[ord(START_OF_WORD)] = len(characters)\n",
        "idx_to_char[len(characters)] = ord(START_OF_WORD)\n",
        "char_to_idx[ord(END_OF_WORD)] = len(characters) + 1\n",
        "idx_to_char[len(characters) + 1] = ord(END_OF_WORD)"
      ]
    },
    {
      "cell_type": "code",
      "execution_count": 91,
      "metadata": {
        "colab": {
          "base_uri": "https://localhost:8080/"
        },
        "id": "ArqDMQQ44kY0",
        "outputId": "268df05a-391a-42f3-928d-588ecbc33ccb"
      },
      "outputs": [
        {
          "output_type": "stream",
          "name": "stdout",
          "text": [
            "[(0, 'i'), (1, 'Z'), (2, '*'), (3, 'D'), (4, '0'), (5, '?'), (6, '}'), (7, 'd'), (8, 'P'), (9, 'c'), (10, '('), (11, '$'), (12, 'j'), (13, '%'), (14, 'k'), (15, 'h'), (16, 'V'), (17, ';'), (18, 'L'), (19, '\\\\'), (20, 'S'), (21, '4'), (22, ')'), (23, 'n'), (24, 't'), (25, 'O'), (26, '7'), (27, '{'), (28, 'r'), (29, '3'), (30, 'e'), (31, '2'), (32, 'F'), (33, '-'), (34, 'p'), (35, 'u'), (36, 'H'), (37, 'y'), (38, '!'), (39, 'o'), (40, 'R'), (41, 'I'), (42, 'N'), (43, 'b'), (44, 'K'), (45, 'X'), (46, ' '), (47, '9'), (48, '/'), (49, 'J'), (50, \"'\"), (51, '@'), (52, '`'), (53, 'G'), (54, 'A'), (55, 'C'), (56, 'Y'), (57, 'T'), (58, 'l'), (59, ','), (60, '#'), (61, 'g'), (62, '1'), (63, 'M'), (64, 'q'), (65, 'z'), (66, ':'), (67, 'W'), (68, 'U'), (69, '\\n'), (70, 'm'), (71, '&'), (72, 'a'), (73, 'f'), (74, 'E'), (75, 'x'), (76, '='), (77, '.'), (78, 'w'), (79, 's'), (80, 'Q'), (81, 'B'), (82, 'v'), (83, '6'), (84, '8'), (85, '5'), (86, 2), (87, 3)]\n"
          ]
        }
      ],
      "source": [
        "print(sorted(list(idx_to_char.items())))"
      ]
    },
    {
      "cell_type": "code",
      "source": [
        "def zero_pad_tensor(tensor, rows, num, dim):\n",
        "  shape = None\n",
        "  if rows:\n",
        "    shape = (num, tensor.shape[1])\n",
        "  else:\n",
        "    shape = (tensor.shape[0], num)\n",
        "  zero_tensor = torch.zeros(shape[0], shape[1])\n",
        "  return torch.cat((tensor, zero_tensor), dim=dim)"
      ],
      "metadata": {
        "id": "GZzedmd_KgFg"
      },
      "execution_count": 44,
      "outputs": []
    },
    {
      "cell_type": "code",
      "execution_count": 129,
      "metadata": {
        "id": "ip7W1RYu5VBw"
      },
      "outputs": [],
      "source": [
        "class CharEmbeddings(torch.nn.Module):\n",
        "  def __init__(self, num_characters: int, embedding_dim: int, max_word_length):\n",
        "    super().__init__()\n",
        "    self.character_embeddings = torch.nn.Embedding(num_characters, embedding_dim)\n",
        "    self.max_word_length = max_word_length + 2\n",
        "\n",
        "  def forward(self, x: torch.tensor):\n",
        "    ### concat start-of-word, x, and end-of-word tensor and then zero pad on the right\n",
        "    character_embeddings = torch.transpose(self.character_embeddings(x), 0, 1)\n",
        "\n",
        "    start_of_word_embedding = torch.transpose(\n",
        "      self.character_embeddings(torch.tensor([ord(START_OF_WORD)])), 0, 1\n",
        "    )\n",
        "\n",
        "    end_of_word_embedding = torch.transpose(\n",
        "      self.character_embeddings(torch.tensor([ord(END_OF_WORD)])), 0, 1\n",
        "    )\n",
        "\n",
        "    char_sequence = torch.cat(\n",
        "      (start_of_word_embedding, character_embeddings, end_of_word_embedding),\n",
        "      dim=1\n",
        "    )\n",
        "\n",
        "    if self.max_word_length != char_sequence.shape[1]:\n",
        "      char_sequence = zero_pad_tensor(\n",
        "        char_sequence, False, self.max_word_length - char_sequence.shape[1], 1\n",
        "      )\n",
        "\n",
        "    return char_sequence\n"
      ]
    },
    {
      "cell_type": "code",
      "execution_count": 130,
      "metadata": {
        "id": "Ke_vXz0bqpRQ"
      },
      "outputs": [],
      "source": [
        "def convert_sequence(ce: CharEmbeddings, mapping, characters: str | list):\n",
        "  if isinstance(characters, str):\n",
        "    characters = list(characters)\n",
        "  encoded_str = torch.tensor([char_to_idx[char] for char in characters])\n",
        "  return ce(encoded_str).unsqueeze(0)"
      ]
    },
    {
      "cell_type": "code",
      "execution_count": 131,
      "metadata": {
        "id": "acUGvXHc52rS"
      },
      "outputs": [],
      "source": [
        "char_embeddings = CharEmbeddings(len(char_to_idx), EMBEDDING_DIM, max_word_length)"
      ]
    },
    {
      "cell_type": "code",
      "source": [
        "print(convert_sequence(char_embeddings, char_to_idx, \"33\").shape)"
      ],
      "metadata": {
        "colab": {
          "base_uri": "https://localhost:8080/"
        },
        "id": "COSZh68vGOxF",
        "outputId": "8dabc180-cd57-48b4-e3d6-9923500317d9"
      },
      "execution_count": 132,
      "outputs": [
        {
          "output_type": "stream",
          "name": "stdout",
          "text": [
            "torch.Size([1, 15, 56])\n"
          ]
        }
      ]
    },
    {
      "cell_type": "code",
      "execution_count": 138,
      "metadata": {
        "colab": {
          "base_uri": "https://localhost:8080/"
        },
        "id": "L_drvnIX8m2w",
        "outputId": "2a3d1da9-e353-4574-e82c-1265343172b1"
      },
      "outputs": [
        {
          "output_type": "stream",
          "name": "stdout",
          "text": [
            "{'EMBEDDING_DIM': 15,\n",
            " 'FILTER_CONFIG': [(25, 1), (50, 2), (75, 3), (100, 4), (125, 5), (150, 6)],\n",
            " 'activation': 'tanh'}\n",
            "50 1\n",
            "100 2\n",
            "150 3\n",
            "200 4\n",
            "200 5\n",
            "200 6\n",
            "200 7\n",
            "torch.Size([1, 15, 56])\n",
            "(1, tensor([[[ 0.2422,  0.9080,  0.0907,  ...,  0.1138,  0.1138,  0.1138]],\n",
            "\n",
            "        [[-0.7010,  0.2248,  0.4313,  ..., -0.0892, -0.0892, -0.0892]],\n",
            "\n",
            "        [[ 0.0568,  0.0489,  0.7417,  ...,  0.0663,  0.0663,  0.0663]],\n",
            "\n",
            "        ...,\n",
            "\n",
            "        [[ 0.1642,  0.2980, -1.1362,  ...,  0.1042,  0.1042,  0.1042]],\n",
            "\n",
            "        [[-0.8339,  0.7108,  0.8210,  ...,  0.1663,  0.1663,  0.1663]],\n",
            "\n",
            "        [[ 0.0724, -0.4084, -0.0708,  ...,  0.0488,  0.0488,  0.0488]]],\n",
            "       grad_fn=<SqueezeBackward1>))\n",
            "(2, tensor([[[-0.0748,  0.7126, -0.3942,  ..., -0.1020, -0.1020, -0.1020]],\n",
            "\n",
            "        [[ 0.6554, -0.0156, -0.0576,  ...,  0.1101,  0.1101,  0.1101]],\n",
            "\n",
            "        [[ 0.0046,  0.6839,  0.7434,  ...,  0.0264,  0.0264,  0.0264]],\n",
            "\n",
            "        ...,\n",
            "\n",
            "        [[ 0.9789, -1.2988, -0.5887,  ...,  0.1150,  0.1150,  0.1150]],\n",
            "\n",
            "        [[-0.0333,  0.8897,  0.3686,  ...,  0.0452,  0.0452,  0.0452]],\n",
            "\n",
            "        [[ 0.2237,  0.7384,  0.2490,  ...,  0.0347,  0.0347,  0.0347]]],\n",
            "       grad_fn=<SqueezeBackward1>))\n",
            "(3, tensor([[[ 0.3054,  1.3219, -0.7637,  ..., -0.0899, -0.0899, -0.0899]],\n",
            "\n",
            "        [[-0.0627,  0.1140, -1.2696,  ..., -0.0895, -0.0895, -0.0895]],\n",
            "\n",
            "        [[ 0.4675, -0.5524,  0.6786,  ...,  0.0580,  0.0580,  0.0580]],\n",
            "\n",
            "        ...,\n",
            "\n",
            "        [[-0.2607, -0.3496, -0.7431,  ...,  0.0138,  0.0138,  0.0138]],\n",
            "\n",
            "        [[-0.4087, -0.2042, -0.0526,  ..., -0.0039, -0.0039, -0.0039]],\n",
            "\n",
            "        [[ 1.4379,  0.2181, -0.0570,  ...,  0.0510,  0.0510,  0.0510]]],\n",
            "       grad_fn=<SqueezeBackward1>))\n",
            "(4, tensor([[[ 0.2537,  0.5684,  0.1297,  ...,  0.0577,  0.0577,  0.0577]],\n",
            "\n",
            "        [[ 0.7891,  0.3852,  0.3353,  ..., -0.0059, -0.0059, -0.0059]],\n",
            "\n",
            "        [[-0.7735, -0.2130,  0.8135,  ..., -0.0562, -0.0562, -0.0562]],\n",
            "\n",
            "        ...,\n",
            "\n",
            "        [[ 0.0417,  0.1091,  0.0691,  ...,  0.0462,  0.0462,  0.0462]],\n",
            "\n",
            "        [[ 0.7706, -0.1133,  1.1037,  ..., -0.0224, -0.0224, -0.0224]],\n",
            "\n",
            "        [[ 0.1507, -0.3214, -0.2648,  ..., -0.0985, -0.0985, -0.0985]]],\n",
            "       grad_fn=<SqueezeBackward1>))\n",
            "(5, tensor([[[-0.1428, -0.2142, -1.5995,  ..., -0.0941, -0.0941, -0.0941]],\n",
            "\n",
            "        [[ 0.3992, -0.5708, -1.1337,  ..., -0.0101, -0.0101, -0.0101]],\n",
            "\n",
            "        [[-0.2912, -0.1192,  0.0968,  ..., -0.0480, -0.0480, -0.0480]],\n",
            "\n",
            "        ...,\n",
            "\n",
            "        [[-0.8250, -0.0304,  0.1434,  ...,  0.1145,  0.1145,  0.1145]],\n",
            "\n",
            "        [[-0.8200, -0.4253,  0.8908,  ...,  0.0975,  0.0975,  0.0975]],\n",
            "\n",
            "        [[-0.3964,  0.1547, -0.3231,  ...,  0.0672,  0.0672,  0.0672]]],\n",
            "       grad_fn=<SqueezeBackward1>))\n",
            "(6, tensor([[[-0.4011, -0.0165,  0.0339,  ..., -0.0163, -0.0163, -0.0163]],\n",
            "\n",
            "        [[ 0.0660, -0.0986, -0.1946,  ..., -0.0155, -0.0155, -0.0155]],\n",
            "\n",
            "        [[-0.1957, -0.2489, -0.6305,  ..., -0.0202, -0.0202, -0.0202]],\n",
            "\n",
            "        ...,\n",
            "\n",
            "        [[ 0.3541,  0.0172, -0.5121,  ...,  0.0734,  0.0734,  0.0734]],\n",
            "\n",
            "        [[ 0.1008, -0.2037,  0.1610,  ...,  0.0966,  0.0966,  0.0966]],\n",
            "\n",
            "        [[ 0.4175, -0.3585, -0.1506,  ...,  0.0686,  0.0686,  0.0686]]],\n",
            "       grad_fn=<SqueezeBackward1>))\n",
            "(7, tensor([[[-0.3595, -0.2134, -0.7355,  ..., -0.0563, -0.0563, -0.0563]],\n",
            "\n",
            "        [[ 0.4541, -0.0695, -0.3876,  ..., -0.0781, -0.0781, -0.0781]],\n",
            "\n",
            "        [[ 0.6486, -0.2470, -0.2172,  ...,  0.0473,  0.0473,  0.0473]],\n",
            "\n",
            "        ...,\n",
            "\n",
            "        [[-0.5101, -0.7225,  0.6674,  ..., -0.0944, -0.0944, -0.0944]],\n",
            "\n",
            "        [[-0.1320, -0.3637, -0.3251,  ..., -0.0107, -0.0107, -0.0107]],\n",
            "\n",
            "        [[-1.1040, -0.3138,  0.4717,  ...,  0.0410,  0.0410,  0.0410]]],\n",
            "       grad_fn=<SqueezeBackward1>))\n"
          ]
        }
      ],
      "source": [
        "# input to the CharCNN, Ck, is tensor of size d x l where l is the sequence of characters\n",
        "# apply a narrow convolution of width w between each filter and Ck\n",
        "\n",
        "'''\n",
        "# the of filters -> width\n",
        "Mapping : filter numbers -> width\n",
        "'''\n",
        "SMALL_FILTER_CONFIG = [(25 * width, width) for width in range(1, 7)]\n",
        "LARGE_FILTER_CONFIG = [(min(200, 50 * width), width) for width in range(1, 8)]\n",
        "\n",
        "SMALL_CONFIG = {\n",
        "    \"FILTER_CONFIG\": SMALL_FILTER_CONFIG,\n",
        "    \"EMBEDDING_DIM\": EMBEDDING_DIM,\n",
        "    \"activation\": \"tanh\"\n",
        "}\n",
        "pprint.pprint(SMALL_CONFIG)\n",
        "\n",
        "LARGE_CONFIG = {\n",
        "    \"FILTER_CONFIG\": LARGE_FILTER_CONFIG,\n",
        "    \"EMBEDDING_DIM\": EMBEDDING_DIM,\n",
        "    \"activation\": \"tanh\"\n",
        "}\n",
        "\n",
        "class CharCNN(nn.Module):\n",
        "  def __init__(self, config: dict, filter_height):\n",
        "    super().__init__()\n",
        "    filter_width_mapping = config[\"FILTER_CONFIG\"]\n",
        "    self.conv_layers = nn.ModuleList()\n",
        "    for num_filters, filter_width in filter_width_mapping:\n",
        "      print(num_filters, filter_width)\n",
        "      self.conv_layers.append (\n",
        "          torch.nn.Conv2d (\n",
        "            in_channels=1,\n",
        "            out_channels=num_filters,\n",
        "            kernel_size=(filter_height, filter_width),\n",
        "            stride=1,\n",
        "            padding=0\n",
        "          )\n",
        "        )\n",
        "\n",
        "\n",
        "  # passing x to a conv layer will produce a feature map for that layer\n",
        "  def forward(self, x):\n",
        "    # do something with the feature maps here?\n",
        "    feature_maps = []\n",
        "    print(x.shape)\n",
        "\n",
        "    for mod in self.conv_layers:\n",
        "      #print(mod)\n",
        "      width_of_kernel = mod.kernel_size[1]\n",
        "      #print('width', width_of_kernel, mod.kernel_size)\n",
        "      feature_maps.append((width_of_kernel, mod(x)))\n",
        "      print(feature_maps[-1],)\n",
        "    return None\n",
        "\n",
        "# 15\n",
        "char_cnn = CharCNN(LARGE_CONFIG, EMBEDDING_DIM)\n",
        "converted_seq = convert_sequence(char_embeddings, char_to_idx, \"hello\")\n",
        "char_cnn(converted_seq)\n"
      ]
    },
    {
      "cell_type": "code",
      "execution_count": null,
      "metadata": {
        "id": "1iSe6dZGNKAz"
      },
      "outputs": [],
      "source": []
    },
    {
      "cell_type": "markdown",
      "metadata": {
        "id": "lgZyysFDNFUd"
      },
      "source": []
    }
  ],
  "metadata": {
    "colab": {
      "provenance": [],
      "authorship_tag": "ABX9TyMC1wbLoShWmD55o6iVAn7h",
      "include_colab_link": true
    },
    "kernelspec": {
      "display_name": "Python 3",
      "name": "python3"
    },
    "language_info": {
      "name": "python"
    }
  },
  "nbformat": 4,
  "nbformat_minor": 0
}